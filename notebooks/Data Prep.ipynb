{
 "cells": [
  {
   "cell_type": "code",
   "execution_count": 63,
   "metadata": {},
   "outputs": [],
   "source": [
    "# Prepare the data to be ready to use for later in classification \n",
    "# We want to predict wheter a loan will be a \"Good Loan\" or \"Bad Loans\", before giving the loan"
   ]
  },
  {
   "cell_type": "code",
   "execution_count": 64,
   "metadata": {},
   "outputs": [],
   "source": [
    "## Import Libraries\n",
    "import pandas as pd\n",
    "import numpy as np\n",
    "import matplotlib.pyplot as plt\n",
    "import seaborn as sns\n",
    "%matplotlib inline"
   ]
  },
  {
   "cell_type": "code",
   "execution_count": 65,
   "metadata": {},
   "outputs": [
    {
     "data": {
      "text/html": [
       "<div>\n",
       "<style scoped>\n",
       "    .dataframe tbody tr th:only-of-type {\n",
       "        vertical-align: middle;\n",
       "    }\n",
       "\n",
       "    .dataframe tbody tr th {\n",
       "        vertical-align: top;\n",
       "    }\n",
       "\n",
       "    .dataframe thead th {\n",
       "        text-align: right;\n",
       "    }\n",
       "</style>\n",
       "<table border=\"1\" class=\"dataframe\">\n",
       "  <thead>\n",
       "    <tr style=\"text-align: right;\">\n",
       "      <th></th>\n",
       "      <th>id</th>\n",
       "      <th>member_id</th>\n",
       "      <th>loan_amnt</th>\n",
       "      <th>funded_amnt</th>\n",
       "      <th>funded_amnt_inv</th>\n",
       "      <th>term</th>\n",
       "      <th>int_rate</th>\n",
       "      <th>installment</th>\n",
       "      <th>grade</th>\n",
       "      <th>sub_grade</th>\n",
       "      <th>...</th>\n",
       "      <th>total_bal_il</th>\n",
       "      <th>il_util</th>\n",
       "      <th>open_rv_12m</th>\n",
       "      <th>open_rv_24m</th>\n",
       "      <th>max_bal_bc</th>\n",
       "      <th>all_util</th>\n",
       "      <th>total_rev_hi_lim</th>\n",
       "      <th>inq_fi</th>\n",
       "      <th>total_cu_tl</th>\n",
       "      <th>inq_last_12m</th>\n",
       "    </tr>\n",
       "  </thead>\n",
       "  <tbody>\n",
       "    <tr>\n",
       "      <th>0</th>\n",
       "      <td>1077501</td>\n",
       "      <td>1296599</td>\n",
       "      <td>5000.0</td>\n",
       "      <td>5000.0</td>\n",
       "      <td>4975.0</td>\n",
       "      <td>36 months</td>\n",
       "      <td>10.65</td>\n",
       "      <td>162.87</td>\n",
       "      <td>B</td>\n",
       "      <td>B2</td>\n",
       "      <td>...</td>\n",
       "      <td>NaN</td>\n",
       "      <td>NaN</td>\n",
       "      <td>NaN</td>\n",
       "      <td>NaN</td>\n",
       "      <td>NaN</td>\n",
       "      <td>NaN</td>\n",
       "      <td>NaN</td>\n",
       "      <td>NaN</td>\n",
       "      <td>NaN</td>\n",
       "      <td>NaN</td>\n",
       "    </tr>\n",
       "    <tr>\n",
       "      <th>1</th>\n",
       "      <td>1077430</td>\n",
       "      <td>1314167</td>\n",
       "      <td>2500.0</td>\n",
       "      <td>2500.0</td>\n",
       "      <td>2500.0</td>\n",
       "      <td>60 months</td>\n",
       "      <td>15.27</td>\n",
       "      <td>59.83</td>\n",
       "      <td>C</td>\n",
       "      <td>C4</td>\n",
       "      <td>...</td>\n",
       "      <td>NaN</td>\n",
       "      <td>NaN</td>\n",
       "      <td>NaN</td>\n",
       "      <td>NaN</td>\n",
       "      <td>NaN</td>\n",
       "      <td>NaN</td>\n",
       "      <td>NaN</td>\n",
       "      <td>NaN</td>\n",
       "      <td>NaN</td>\n",
       "      <td>NaN</td>\n",
       "    </tr>\n",
       "    <tr>\n",
       "      <th>2</th>\n",
       "      <td>1077175</td>\n",
       "      <td>1313524</td>\n",
       "      <td>2400.0</td>\n",
       "      <td>2400.0</td>\n",
       "      <td>2400.0</td>\n",
       "      <td>36 months</td>\n",
       "      <td>15.96</td>\n",
       "      <td>84.33</td>\n",
       "      <td>C</td>\n",
       "      <td>C5</td>\n",
       "      <td>...</td>\n",
       "      <td>NaN</td>\n",
       "      <td>NaN</td>\n",
       "      <td>NaN</td>\n",
       "      <td>NaN</td>\n",
       "      <td>NaN</td>\n",
       "      <td>NaN</td>\n",
       "      <td>NaN</td>\n",
       "      <td>NaN</td>\n",
       "      <td>NaN</td>\n",
       "      <td>NaN</td>\n",
       "    </tr>\n",
       "    <tr>\n",
       "      <th>3</th>\n",
       "      <td>1076863</td>\n",
       "      <td>1277178</td>\n",
       "      <td>10000.0</td>\n",
       "      <td>10000.0</td>\n",
       "      <td>10000.0</td>\n",
       "      <td>36 months</td>\n",
       "      <td>13.49</td>\n",
       "      <td>339.31</td>\n",
       "      <td>C</td>\n",
       "      <td>C1</td>\n",
       "      <td>...</td>\n",
       "      <td>NaN</td>\n",
       "      <td>NaN</td>\n",
       "      <td>NaN</td>\n",
       "      <td>NaN</td>\n",
       "      <td>NaN</td>\n",
       "      <td>NaN</td>\n",
       "      <td>NaN</td>\n",
       "      <td>NaN</td>\n",
       "      <td>NaN</td>\n",
       "      <td>NaN</td>\n",
       "    </tr>\n",
       "    <tr>\n",
       "      <th>4</th>\n",
       "      <td>1075358</td>\n",
       "      <td>1311748</td>\n",
       "      <td>3000.0</td>\n",
       "      <td>3000.0</td>\n",
       "      <td>3000.0</td>\n",
       "      <td>60 months</td>\n",
       "      <td>12.69</td>\n",
       "      <td>67.79</td>\n",
       "      <td>B</td>\n",
       "      <td>B5</td>\n",
       "      <td>...</td>\n",
       "      <td>NaN</td>\n",
       "      <td>NaN</td>\n",
       "      <td>NaN</td>\n",
       "      <td>NaN</td>\n",
       "      <td>NaN</td>\n",
       "      <td>NaN</td>\n",
       "      <td>NaN</td>\n",
       "      <td>NaN</td>\n",
       "      <td>NaN</td>\n",
       "      <td>NaN</td>\n",
       "    </tr>\n",
       "  </tbody>\n",
       "</table>\n",
       "<p>5 rows × 74 columns</p>\n",
       "</div>"
      ],
      "text/plain": [
       "        id  member_id  loan_amnt  funded_amnt  funded_amnt_inv        term  \\\n",
       "0  1077501    1296599     5000.0       5000.0           4975.0   36 months   \n",
       "1  1077430    1314167     2500.0       2500.0           2500.0   60 months   \n",
       "2  1077175    1313524     2400.0       2400.0           2400.0   36 months   \n",
       "3  1076863    1277178    10000.0      10000.0          10000.0   36 months   \n",
       "4  1075358    1311748     3000.0       3000.0           3000.0   60 months   \n",
       "\n",
       "   int_rate  installment grade sub_grade     ...      total_bal_il il_util  \\\n",
       "0     10.65       162.87     B        B2     ...               NaN     NaN   \n",
       "1     15.27        59.83     C        C4     ...               NaN     NaN   \n",
       "2     15.96        84.33     C        C5     ...               NaN     NaN   \n",
       "3     13.49       339.31     C        C1     ...               NaN     NaN   \n",
       "4     12.69        67.79     B        B5     ...               NaN     NaN   \n",
       "\n",
       "  open_rv_12m  open_rv_24m max_bal_bc all_util total_rev_hi_lim inq_fi  \\\n",
       "0         NaN          NaN        NaN      NaN              NaN    NaN   \n",
       "1         NaN          NaN        NaN      NaN              NaN    NaN   \n",
       "2         NaN          NaN        NaN      NaN              NaN    NaN   \n",
       "3         NaN          NaN        NaN      NaN              NaN    NaN   \n",
       "4         NaN          NaN        NaN      NaN              NaN    NaN   \n",
       "\n",
       "  total_cu_tl inq_last_12m  \n",
       "0         NaN          NaN  \n",
       "1         NaN          NaN  \n",
       "2         NaN          NaN  \n",
       "3         NaN          NaN  \n",
       "4         NaN          NaN  \n",
       "\n",
       "[5 rows x 74 columns]"
      ]
     },
     "execution_count": 65,
     "metadata": {},
     "output_type": "execute_result"
    }
   ],
   "source": [
    "# Import Data\n",
    "loan = pd.read_csv('../data/lending-club-loan-data/loan.csv', low_memory=False)\n",
    "loan.head()"
   ]
  },
  {
   "cell_type": "code",
   "execution_count": 66,
   "metadata": {},
   "outputs": [
    {
     "name": "stdout",
     "output_type": "stream",
     "text": [
      "<class 'pandas.core.frame.DataFrame'>\n",
      "RangeIndex: 887379 entries, 0 to 887378\n",
      "Data columns (total 74 columns):\n",
      "id                             887379 non-null int64\n",
      "member_id                      887379 non-null int64\n",
      "loan_amnt                      887379 non-null float64\n",
      "funded_amnt                    887379 non-null float64\n",
      "funded_amnt_inv                887379 non-null float64\n",
      "term                           887379 non-null object\n",
      "int_rate                       887379 non-null float64\n",
      "installment                    887379 non-null float64\n",
      "grade                          887379 non-null object\n",
      "sub_grade                      887379 non-null object\n",
      "emp_title                      835917 non-null object\n",
      "emp_length                     842554 non-null object\n",
      "home_ownership                 887379 non-null object\n",
      "annual_inc                     887375 non-null float64\n",
      "verification_status            887379 non-null object\n",
      "issue_d                        887379 non-null object\n",
      "loan_status                    887379 non-null object\n",
      "pymnt_plan                     887379 non-null object\n",
      "url                            887379 non-null object\n",
      "desc                           126028 non-null object\n",
      "purpose                        887379 non-null object\n",
      "title                          887227 non-null object\n",
      "zip_code                       887379 non-null object\n",
      "addr_state                     887379 non-null object\n",
      "dti                            887379 non-null float64\n",
      "delinq_2yrs                    887350 non-null float64\n",
      "earliest_cr_line               887350 non-null object\n",
      "inq_last_6mths                 887350 non-null float64\n",
      "mths_since_last_delinq         433067 non-null float64\n",
      "mths_since_last_record         137053 non-null float64\n",
      "open_acc                       887350 non-null float64\n",
      "pub_rec                        887350 non-null float64\n",
      "revol_bal                      887379 non-null float64\n",
      "revol_util                     886877 non-null float64\n",
      "total_acc                      887350 non-null float64\n",
      "initial_list_status            887379 non-null object\n",
      "out_prncp                      887379 non-null float64\n",
      "out_prncp_inv                  887379 non-null float64\n",
      "total_pymnt                    887379 non-null float64\n",
      "total_pymnt_inv                887379 non-null float64\n",
      "total_rec_prncp                887379 non-null float64\n",
      "total_rec_int                  887379 non-null float64\n",
      "total_rec_late_fee             887379 non-null float64\n",
      "recoveries                     887379 non-null float64\n",
      "collection_recovery_fee        887379 non-null float64\n",
      "last_pymnt_d                   869720 non-null object\n",
      "last_pymnt_amnt                887379 non-null float64\n",
      "next_pymnt_d                   634408 non-null object\n",
      "last_credit_pull_d             887326 non-null object\n",
      "collections_12_mths_ex_med     887234 non-null float64\n",
      "mths_since_last_major_derog    221703 non-null float64\n",
      "policy_code                    887379 non-null float64\n",
      "application_type               887379 non-null object\n",
      "annual_inc_joint               511 non-null float64\n",
      "dti_joint                      509 non-null float64\n",
      "verification_status_joint      511 non-null object\n",
      "acc_now_delinq                 887350 non-null float64\n",
      "tot_coll_amt                   817103 non-null float64\n",
      "tot_cur_bal                    817103 non-null float64\n",
      "open_acc_6m                    21372 non-null float64\n",
      "open_il_6m                     21372 non-null float64\n",
      "open_il_12m                    21372 non-null float64\n",
      "open_il_24m                    21372 non-null float64\n",
      "mths_since_rcnt_il             20810 non-null float64\n",
      "total_bal_il                   21372 non-null float64\n",
      "il_util                        18617 non-null float64\n",
      "open_rv_12m                    21372 non-null float64\n",
      "open_rv_24m                    21372 non-null float64\n",
      "max_bal_bc                     21372 non-null float64\n",
      "all_util                       21372 non-null float64\n",
      "total_rev_hi_lim               817103 non-null float64\n",
      "inq_fi                         21372 non-null float64\n",
      "total_cu_tl                    21372 non-null float64\n",
      "inq_last_12m                   21372 non-null float64\n",
      "dtypes: float64(49), int64(2), object(23)\n",
      "memory usage: 501.0+ MB\n"
     ]
    }
   ],
   "source": [
    "# Start by exploring the data\n",
    "loan.info()"
   ]
  },
  {
   "cell_type": "code",
   "execution_count": 67,
   "metadata": {},
   "outputs": [
    {
     "data": {
      "text/plain": [
       "0    Dec-2011\n",
       "1    Dec-2011\n",
       "2    Dec-2011\n",
       "3    Dec-2011\n",
       "4    Dec-2011\n",
       "Name: issue_d, dtype: object"
      ]
     },
     "execution_count": 67,
     "metadata": {},
     "output_type": "execute_result"
    }
   ],
   "source": [
    "loan['issue_d'].head()"
   ]
  },
  {
   "cell_type": "code",
   "execution_count": 68,
   "metadata": {},
   "outputs": [
    {
     "data": {
      "text/plain": [
       "0    2011\n",
       "1    2011\n",
       "2    2011\n",
       "3    2011\n",
       "4    2011\n",
       "Name: year, dtype: int64"
      ]
     },
     "execution_count": 68,
     "metadata": {},
     "output_type": "execute_result"
    }
   ],
   "source": [
    "# Transform \"issue_d\" to year --> year the loan was issue\n",
    "dt_series = pd.to_datetime(loan['issue_d'])\n",
    "# Convert Date Time to Year from series\n",
    "loan['year'] = dt_series.dt.year\n",
    "loan['year'].head()"
   ]
  },
  {
   "cell_type": "code",
   "execution_count": 69,
   "metadata": {},
   "outputs": [
    {
     "data": {
      "text/plain": [
       "Fully Paid                                             207723\n",
       "Charged Off                                             45248\n",
       "Late (31-120 days)                                      11591\n",
       "Issued                                                   8460\n",
       "In Grace Period                                          6253\n",
       "Late (16-30 days)                                        2357\n",
       "Does not meet the credit policy. Status:Fully Paid       1988\n",
       "Default                                                  1219\n",
       "Does not meet the credit policy. Status:Charged Off       761\n",
       "Name: loan_status, dtype: int64"
      ]
     },
     "execution_count": 69,
     "metadata": {},
     "output_type": "execute_result"
    }
   ],
   "source": [
    "# Remove records that have \"loan_status\" = \"Current\" --> we can't learn from these loans yet!\n",
    "loan = loan[loan['loan_status']!='Current']\n",
    "loan['loan_status'].value_counts()"
   ]
  },
  {
   "cell_type": "code",
   "execution_count": 70,
   "metadata": {},
   "outputs": [
    {
     "data": {
      "text/html": [
       "<div>\n",
       "<style scoped>\n",
       "    .dataframe tbody tr th:only-of-type {\n",
       "        vertical-align: middle;\n",
       "    }\n",
       "\n",
       "    .dataframe tbody tr th {\n",
       "        vertical-align: top;\n",
       "    }\n",
       "\n",
       "    .dataframe thead th {\n",
       "        text-align: right;\n",
       "    }\n",
       "</style>\n",
       "<table border=\"1\" class=\"dataframe\">\n",
       "  <thead>\n",
       "    <tr style=\"text-align: right;\">\n",
       "      <th></th>\n",
       "      <th>id</th>\n",
       "      <th>member_id</th>\n",
       "      <th>loan_amnt</th>\n",
       "      <th>funded_amnt</th>\n",
       "      <th>funded_amnt_inv</th>\n",
       "      <th>term</th>\n",
       "      <th>int_rate</th>\n",
       "      <th>installment</th>\n",
       "      <th>grade</th>\n",
       "      <th>sub_grade</th>\n",
       "      <th>...</th>\n",
       "      <th>open_rv_24m</th>\n",
       "      <th>max_bal_bc</th>\n",
       "      <th>all_util</th>\n",
       "      <th>total_rev_hi_lim</th>\n",
       "      <th>inq_fi</th>\n",
       "      <th>total_cu_tl</th>\n",
       "      <th>inq_last_12m</th>\n",
       "      <th>year</th>\n",
       "      <th>loan_condition</th>\n",
       "      <th>loan_condition_num</th>\n",
       "    </tr>\n",
       "  </thead>\n",
       "  <tbody>\n",
       "    <tr>\n",
       "      <th>0</th>\n",
       "      <td>1077501</td>\n",
       "      <td>1296599</td>\n",
       "      <td>5000.0</td>\n",
       "      <td>5000.0</td>\n",
       "      <td>4975.0</td>\n",
       "      <td>36 months</td>\n",
       "      <td>10.65</td>\n",
       "      <td>162.87</td>\n",
       "      <td>B</td>\n",
       "      <td>B2</td>\n",
       "      <td>...</td>\n",
       "      <td>NaN</td>\n",
       "      <td>NaN</td>\n",
       "      <td>NaN</td>\n",
       "      <td>NaN</td>\n",
       "      <td>NaN</td>\n",
       "      <td>NaN</td>\n",
       "      <td>NaN</td>\n",
       "      <td>2011</td>\n",
       "      <td>Good</td>\n",
       "      <td>0</td>\n",
       "    </tr>\n",
       "    <tr>\n",
       "      <th>1</th>\n",
       "      <td>1077430</td>\n",
       "      <td>1314167</td>\n",
       "      <td>2500.0</td>\n",
       "      <td>2500.0</td>\n",
       "      <td>2500.0</td>\n",
       "      <td>60 months</td>\n",
       "      <td>15.27</td>\n",
       "      <td>59.83</td>\n",
       "      <td>C</td>\n",
       "      <td>C4</td>\n",
       "      <td>...</td>\n",
       "      <td>NaN</td>\n",
       "      <td>NaN</td>\n",
       "      <td>NaN</td>\n",
       "      <td>NaN</td>\n",
       "      <td>NaN</td>\n",
       "      <td>NaN</td>\n",
       "      <td>NaN</td>\n",
       "      <td>2011</td>\n",
       "      <td>Bad</td>\n",
       "      <td>1</td>\n",
       "    </tr>\n",
       "    <tr>\n",
       "      <th>2</th>\n",
       "      <td>1077175</td>\n",
       "      <td>1313524</td>\n",
       "      <td>2400.0</td>\n",
       "      <td>2400.0</td>\n",
       "      <td>2400.0</td>\n",
       "      <td>36 months</td>\n",
       "      <td>15.96</td>\n",
       "      <td>84.33</td>\n",
       "      <td>C</td>\n",
       "      <td>C5</td>\n",
       "      <td>...</td>\n",
       "      <td>NaN</td>\n",
       "      <td>NaN</td>\n",
       "      <td>NaN</td>\n",
       "      <td>NaN</td>\n",
       "      <td>NaN</td>\n",
       "      <td>NaN</td>\n",
       "      <td>NaN</td>\n",
       "      <td>2011</td>\n",
       "      <td>Good</td>\n",
       "      <td>0</td>\n",
       "    </tr>\n",
       "    <tr>\n",
       "      <th>3</th>\n",
       "      <td>1076863</td>\n",
       "      <td>1277178</td>\n",
       "      <td>10000.0</td>\n",
       "      <td>10000.0</td>\n",
       "      <td>10000.0</td>\n",
       "      <td>36 months</td>\n",
       "      <td>13.49</td>\n",
       "      <td>339.31</td>\n",
       "      <td>C</td>\n",
       "      <td>C1</td>\n",
       "      <td>...</td>\n",
       "      <td>NaN</td>\n",
       "      <td>NaN</td>\n",
       "      <td>NaN</td>\n",
       "      <td>NaN</td>\n",
       "      <td>NaN</td>\n",
       "      <td>NaN</td>\n",
       "      <td>NaN</td>\n",
       "      <td>2011</td>\n",
       "      <td>Good</td>\n",
       "      <td>0</td>\n",
       "    </tr>\n",
       "    <tr>\n",
       "      <th>5</th>\n",
       "      <td>1075269</td>\n",
       "      <td>1311441</td>\n",
       "      <td>5000.0</td>\n",
       "      <td>5000.0</td>\n",
       "      <td>5000.0</td>\n",
       "      <td>36 months</td>\n",
       "      <td>7.90</td>\n",
       "      <td>156.46</td>\n",
       "      <td>A</td>\n",
       "      <td>A4</td>\n",
       "      <td>...</td>\n",
       "      <td>NaN</td>\n",
       "      <td>NaN</td>\n",
       "      <td>NaN</td>\n",
       "      <td>NaN</td>\n",
       "      <td>NaN</td>\n",
       "      <td>NaN</td>\n",
       "      <td>NaN</td>\n",
       "      <td>2011</td>\n",
       "      <td>Good</td>\n",
       "      <td>0</td>\n",
       "    </tr>\n",
       "  </tbody>\n",
       "</table>\n",
       "<p>5 rows × 77 columns</p>\n",
       "</div>"
      ],
      "text/plain": [
       "        id  member_id  loan_amnt  funded_amnt  funded_amnt_inv        term  \\\n",
       "0  1077501    1296599     5000.0       5000.0           4975.0   36 months   \n",
       "1  1077430    1314167     2500.0       2500.0           2500.0   60 months   \n",
       "2  1077175    1313524     2400.0       2400.0           2400.0   36 months   \n",
       "3  1076863    1277178    10000.0      10000.0          10000.0   36 months   \n",
       "5  1075269    1311441     5000.0       5000.0           5000.0   36 months   \n",
       "\n",
       "   int_rate  installment grade sub_grade        ...         open_rv_24m  \\\n",
       "0     10.65       162.87     B        B2        ...                 NaN   \n",
       "1     15.27        59.83     C        C4        ...                 NaN   \n",
       "2     15.96        84.33     C        C5        ...                 NaN   \n",
       "3     13.49       339.31     C        C1        ...                 NaN   \n",
       "5      7.90       156.46     A        A4        ...                 NaN   \n",
       "\n",
       "  max_bal_bc all_util  total_rev_hi_lim inq_fi total_cu_tl inq_last_12m  year  \\\n",
       "0        NaN      NaN               NaN    NaN         NaN          NaN  2011   \n",
       "1        NaN      NaN               NaN    NaN         NaN          NaN  2011   \n",
       "2        NaN      NaN               NaN    NaN         NaN          NaN  2011   \n",
       "3        NaN      NaN               NaN    NaN         NaN          NaN  2011   \n",
       "5        NaN      NaN               NaN    NaN         NaN          NaN  2011   \n",
       "\n",
       "  loan_condition loan_condition_num  \n",
       "0           Good                  0  \n",
       "1            Bad                  1  \n",
       "2           Good                  0  \n",
       "3           Good                  0  \n",
       "5           Good                  0  \n",
       "\n",
       "[5 rows x 77 columns]"
      ]
     },
     "execution_count": 70,
     "metadata": {},
     "output_type": "execute_result"
    }
   ],
   "source": [
    "# Group the remaining \"loan_status\" into \"Good\" or \"Bad\"\n",
    "bad_loan = [\"Charged Off\", \"Default\", \"Does not meet the credit policy. Status:Charged Off\", \"In Grace Period\", \n",
    "            \"Late (16-30 days)\", \"Late (31-120 days)\"]\n",
    "\n",
    "def loan_condition(status):\n",
    "    if status in bad_loan:\n",
    "        return 'Bad'\n",
    "    else:\n",
    "        return 'Good'\n",
    "    \n",
    "def loan_condition_num(status):\n",
    "    if status in bad_loan:\n",
    "        return 1\n",
    "    else:\n",
    "        return 0\n",
    "    \n",
    "loan['loan_condition'] = loan['loan_status'].apply(loan_condition)\n",
    "\n",
    "loan['loan_condition_num'] = loan['loan_status'].apply(loan_condition_num)\n",
    "\n",
    "loan.head()"
   ]
  },
  {
   "cell_type": "code",
   "execution_count": 71,
   "metadata": {},
   "outputs": [
    {
     "data": {
      "image/png": "[encoded data removed]",
      "text/plain": [
       "<matplotlib.figure.Figure at 0x25b00a30898>"
      ]
     },
     "metadata": {},
     "output_type": "display_data"
    }
   ],
   "source": [
    "# Explore the Data\n",
    "# Check relationship and plot graphs\n",
    "# # of Loans issued / year\n",
    "\n",
    "# plt.figure(figsize=(12,8))\n",
    "# sns.barplot('year', 'loan_amnt', data=loan, palette='tab10', ci=None)\n",
    "# plt.title('Issuance of Loans', fontsize=16)\n",
    "# plt.xlabel('Year', fontsize=14)\n",
    "# plt.ylabel('# loan amount issued', fontsize=14)\n",
    "\n",
    "sns.countplot(x=\"year\", data=loan);"
   ]
  },
  {
   "cell_type": "code",
   "execution_count": 72,
   "metadata": {},
   "outputs": [
    {
     "data": {
      "text/plain": [
       "Text(0,0.5,'Average loan amount issued')"
      ]
     },
     "execution_count": 72,
     "metadata": {},
     "output_type": "execute_result"
    },
    {
     "data": {
      "image/png": "[encoded data removed]",
      "text/plain": [
       "<matplotlib.figure.Figure at 0x25b00a08390>"
      ]
     },
     "metadata": {},
     "output_type": "display_data"
    }
   ],
   "source": [
    "# Explore the Data\n",
    "# Check relationship and plot graphs\n",
    "# # of Loans issued / year\n",
    "\n",
    "plt.figure(figsize=(12,8))\n",
    "sns.barplot('year', 'loan_amnt', data=loan, palette='tab10', ci=None)\n",
    "plt.title('Issuance of Loans', fontsize=16)\n",
    "plt.xlabel('Year', fontsize=14)\n",
    "plt.ylabel('Average loan amount issued', fontsize=14)\n",
    "\n",
    "# Good/Bad by Year\n",
    "# "
   ]
  },
  {
   "cell_type": "code",
   "execution_count": 73,
   "metadata": {},
   "outputs": [
    {
     "data": {
      "text/plain": [
       "2011    19768\n",
       "2010    12530\n",
       "2009     5281\n",
       "2008     2393\n",
       "2007      603\n",
       "Name: year, dtype: int64"
      ]
     },
     "execution_count": 73,
     "metadata": {},
     "output_type": "execute_result"
    }
   ],
   "source": [
    "# Cut down the data to a manageable amount\n",
    "loan = loan[loan['year']<=2011]\n",
    "loan['year'].value_counts()"
   ]
  },
  {
   "cell_type": "code",
   "execution_count": 74,
   "metadata": {},
   "outputs": [
    {
     "data": {
      "text/plain": [
       "[Text(0,0.5,'(% of Bad Loans)')]"
      ]
     },
     "execution_count": 74,
     "metadata": {},
     "output_type": "execute_result"
    },
    {
     "data": {
      "image/png": "[encoded data removed]",
      "text/plain": [
       "<matplotlib.figure.Figure at 0x25b04bc6cc0>"
      ]
     },
     "metadata": {},
     "output_type": "display_data"
    }
   ],
   "source": [
    "f, ax = plt.subplots(1,2, figsize=(16,8))\n",
    "\n",
    "colors = [\"#3791D7\", \"#D72626\"]\n",
    "labels =\"Good Loans\", \"Bad Loans\"\n",
    "\n",
    "plt.suptitle('Information on Loan Conditions', fontsize=20)\n",
    "\n",
    "loan[\"loan_condition\"].value_counts().plot.pie(explode=[0,0.25], autopct='%1.2f%%', ax=ax[0], shadow=True, colors=colors, \n",
    "                                             labels=labels, fontsize=12, startangle=70)\n",
    "\n",
    "\n",
    "# ax[0].set_title('State of Loan', fontsize=16)\n",
    "ax[0].set_ylabel('% of Condition of Loans', fontsize=14)\n",
    "\n",
    "\n",
    "palette = [\"#3791D7\"]\n",
    "sns.barplot(x=\"year\", y=\"loan_condition_num\", data=loan, palette=palette, estimator=lambda x: sum(x)/len(x), ci = None)\n",
    "ax[1].set(ylabel=\"(% of Bad Loans)\")"
   ]
  },
  {
   "cell_type": "code",
   "execution_count": 75,
   "metadata": {},
   "outputs": [
    {
     "data": {
      "text/plain": [
       "[Text(0,0.5,'(% of Bad Loans)')]"
      ]
     },
     "execution_count": 75,
     "metadata": {},
     "output_type": "execute_result"
    },
    {
     "data": {
      "image/png": "[encoded data removed]",
      "text/plain": [
       "<matplotlib.figure.Figure at 0x25b00a37470>"
      ]
     },
     "metadata": {},
     "output_type": "display_data"
    }
   ],
   "source": [
    "graph_dims = (24,10)\n",
    "fig, ax = plt.subplots(figsize=graph_dims)\n",
    "\n",
    "palette = [\"#3791D7\"]\n",
    "sns.barplot(x=\"purpose\", y=\"loan_condition_num\", data=loan, palette=palette, estimator=lambda x: sum(x)/len(x), ci = None)\n",
    "ax.set(ylabel=\"(% of Bad Loans)\")"
   ]
  },
  {
   "cell_type": "code",
   "execution_count": 76,
   "metadata": {},
   "outputs": [
    {
     "data": {
      "text/plain": [
       "[Text(0,0.5,'(% of Bad Loans)')]"
      ]
     },
     "execution_count": 76,
     "metadata": {},
     "output_type": "execute_result"
    },
    {
     "data": {
      "image/png": "[encoded data removed]",
      "text/plain": [
       "<matplotlib.figure.Figure at 0x25b015862e8>"
      ]
     },
     "metadata": {},
     "output_type": "display_data"
    }
   ],
   "source": [
    "graph_dims = (24,10)\n",
    "fig, ax = plt.subplots(figsize=graph_dims)\n",
    "\n",
    "palette = [\"#3791D7\"]\n",
    "sns.barplot(x=\"verification_status\", y=\"loan_condition_num\", data=loan, palette=palette, estimator=lambda x: sum(x)/len(x), ci = None)\n",
    "ax.set(ylabel=\"(% of Bad Loans)\")"
   ]
  },
  {
   "cell_type": "code",
   "execution_count": 77,
   "metadata": {},
   "outputs": [
    {
     "data": {
      "text/plain": [
       "[Text(0,0.5,'(% of Bad Loans)')]"
      ]
     },
     "execution_count": 77,
     "metadata": {},
     "output_type": "execute_result"
    },
    {
     "data": {
      "image/png": "[encoded data removed]",
      "text/plain": [
       "<matplotlib.figure.Figure at 0x25b0249c470>"
      ]
     },
     "metadata": {},
     "output_type": "display_data"
    }
   ],
   "source": [
    "graph_dims = (24,10)\n",
    "fig, ax = plt.subplots(figsize=graph_dims)\n",
    "\n",
    "palette = [\"#3791D7\"]\n",
    "sns.barplot(x=\"home_ownership\", y=\"loan_condition_num\", data=loan, palette=palette, estimator=lambda x: sum(x)/len(x), ci = None)\n",
    "ax.set(ylabel=\"(% of Bad Loans)\")"
   ]
  },
  {
   "cell_type": "code",
   "execution_count": 78,
   "metadata": {},
   "outputs": [
    {
     "data": {
      "text/plain": [
       "[Text(0,0.5,'(% of Bad Loans)')]"
      ]
     },
     "execution_count": 78,
     "metadata": {},
     "output_type": "execute_result"
    },
    {
     "data": {
      "image/png": "[encoded data removed]",
      "text/plain": [
       "<matplotlib.figure.Figure at 0x25b029efb70>"
      ]
     },
     "metadata": {},
     "output_type": "display_data"
    }
   ],
   "source": [
    "graph_dims = (24,10)\n",
    "fig, ax = plt.subplots(figsize=graph_dims)\n",
    "\n",
    "palette = [\"#3791D7\"]\n",
    "sns.barplot(x=\"grade\", y=\"loan_condition_num\", data=loan, palette=palette, estimator=lambda x: sum(x)/len(x), ci = None)\n",
    "ax.set(ylabel=\"(% of Bad Loans)\")"
   ]
  },
  {
   "cell_type": "code",
   "execution_count": 79,
   "metadata": {},
   "outputs": [
    {
     "data": {
      "text/plain": [
       "[Text(0,0.5,'(% of Bad Loans)')]"
      ]
     },
     "execution_count": 79,
     "metadata": {},
     "output_type": "execute_result"
    },
    {
     "data": {
      "image/png": "[encoded data removed]",
      "text/plain": [
       "<matplotlib.figure.Figure at 0x25b02a70208>"
      ]
     },
     "metadata": {},
     "output_type": "display_data"
    }
   ],
   "source": [
    "graph_dims = (24,10)\n",
    "fig, ax = plt.subplots(figsize=graph_dims)\n",
    "\n",
    "palette = [\"#3791D7\"]\n",
    "sns.barplot(x=\"sub_grade\", y=\"loan_condition_num\", data=loan, palette=palette, estimator=lambda x: sum(x)/len(x), ci = None)\n",
    "ax.set(ylabel=\"(% of Bad Loans)\")"
   ]
  },
  {
   "cell_type": "code",
   "execution_count": 80,
   "metadata": {
    "scrolled": true
   },
   "outputs": [
    {
     "data": {
      "text/plain": [
       "[Text(0,0.5,'(% of Bad Loans)')]"
      ]
     },
     "execution_count": 80,
     "metadata": {},
     "output_type": "execute_result"
    },
    {
     "data": {
      "image/png": "[encoded data removed]",
      "text/plain": [
       "<matplotlib.figure.Figure at 0x25b02b34b00>"
      ]
     },
     "metadata": {},
     "output_type": "display_data"
    }
   ],
   "source": [
    "graph_dims = (24,8)\n",
    "fig, ax = plt.subplots(figsize=graph_dims)\n",
    "\n",
    "palette = [\"#3791D7\"]\n",
    "sns.barplot(x=\"emp_length\", y=\"loan_condition_num\", data=loan, palette=palette, estimator=lambda x: sum(x)/len(x), ci = None)\n",
    "ax.set(ylabel=\"(% of Bad Loans)\")"
   ]
  },
  {
   "cell_type": "code",
   "execution_count": 81,
   "metadata": {},
   "outputs": [
    {
     "data": {
      "text/html": [
       "<div>\n",
       "<style scoped>\n",
       "    .dataframe tbody tr th:only-of-type {\n",
       "        vertical-align: middle;\n",
       "    }\n",
       "\n",
       "    .dataframe tbody tr th {\n",
       "        vertical-align: top;\n",
       "    }\n",
       "\n",
       "    .dataframe thead th {\n",
       "        text-align: right;\n",
       "    }\n",
       "</style>\n",
       "<table border=\"1\" class=\"dataframe\">\n",
       "  <thead>\n",
       "    <tr style=\"text-align: right;\">\n",
       "      <th></th>\n",
       "      <th>purpose</th>\n",
       "      <th>verification_status</th>\n",
       "      <th>loan_amnt</th>\n",
       "      <th>int_rate</th>\n",
       "      <th>installment</th>\n",
       "      <th>grade</th>\n",
       "      <th>sub_grade</th>\n",
       "      <th>emp_length</th>\n",
       "      <th>home_ownership</th>\n",
       "      <th>annual_inc</th>\n",
       "      <th>...</th>\n",
       "      <th>inq_last_6mths</th>\n",
       "      <th>open_acc</th>\n",
       "      <th>total_acc</th>\n",
       "      <th>pub_rec</th>\n",
       "      <th>revol_util</th>\n",
       "      <th>revol_bal</th>\n",
       "      <th>addr_state</th>\n",
       "      <th>term</th>\n",
       "      <th>loan_condition</th>\n",
       "      <th>loan_condition_num</th>\n",
       "    </tr>\n",
       "  </thead>\n",
       "  <tbody>\n",
       "    <tr>\n",
       "      <th>0</th>\n",
       "      <td>credit_card</td>\n",
       "      <td>Verified</td>\n",
       "      <td>5000.0</td>\n",
       "      <td>10.65</td>\n",
       "      <td>162.87</td>\n",
       "      <td>B</td>\n",
       "      <td>B2</td>\n",
       "      <td>10+ years</td>\n",
       "      <td>RENT</td>\n",
       "      <td>24000.0</td>\n",
       "      <td>...</td>\n",
       "      <td>1.0</td>\n",
       "      <td>3.0</td>\n",
       "      <td>9.0</td>\n",
       "      <td>0.0</td>\n",
       "      <td>83.7</td>\n",
       "      <td>13648.0</td>\n",
       "      <td>AZ</td>\n",
       "      <td>36 months</td>\n",
       "      <td>Good</td>\n",
       "      <td>0</td>\n",
       "    </tr>\n",
       "    <tr>\n",
       "      <th>1</th>\n",
       "      <td>car</td>\n",
       "      <td>Source Verified</td>\n",
       "      <td>2500.0</td>\n",
       "      <td>15.27</td>\n",
       "      <td>59.83</td>\n",
       "      <td>C</td>\n",
       "      <td>C4</td>\n",
       "      <td>&lt; 1 year</td>\n",
       "      <td>RENT</td>\n",
       "      <td>30000.0</td>\n",
       "      <td>...</td>\n",
       "      <td>5.0</td>\n",
       "      <td>3.0</td>\n",
       "      <td>4.0</td>\n",
       "      <td>0.0</td>\n",
       "      <td>9.4</td>\n",
       "      <td>1687.0</td>\n",
       "      <td>GA</td>\n",
       "      <td>60 months</td>\n",
       "      <td>Bad</td>\n",
       "      <td>1</td>\n",
       "    </tr>\n",
       "    <tr>\n",
       "      <th>2</th>\n",
       "      <td>small_business</td>\n",
       "      <td>Not Verified</td>\n",
       "      <td>2400.0</td>\n",
       "      <td>15.96</td>\n",
       "      <td>84.33</td>\n",
       "      <td>C</td>\n",
       "      <td>C5</td>\n",
       "      <td>10+ years</td>\n",
       "      <td>RENT</td>\n",
       "      <td>12252.0</td>\n",
       "      <td>...</td>\n",
       "      <td>2.0</td>\n",
       "      <td>2.0</td>\n",
       "      <td>10.0</td>\n",
       "      <td>0.0</td>\n",
       "      <td>98.5</td>\n",
       "      <td>2956.0</td>\n",
       "      <td>IL</td>\n",
       "      <td>36 months</td>\n",
       "      <td>Good</td>\n",
       "      <td>0</td>\n",
       "    </tr>\n",
       "    <tr>\n",
       "      <th>3</th>\n",
       "      <td>other</td>\n",
       "      <td>Source Verified</td>\n",
       "      <td>10000.0</td>\n",
       "      <td>13.49</td>\n",
       "      <td>339.31</td>\n",
       "      <td>C</td>\n",
       "      <td>C1</td>\n",
       "      <td>10+ years</td>\n",
       "      <td>RENT</td>\n",
       "      <td>49200.0</td>\n",
       "      <td>...</td>\n",
       "      <td>1.0</td>\n",
       "      <td>10.0</td>\n",
       "      <td>37.0</td>\n",
       "      <td>0.0</td>\n",
       "      <td>21.0</td>\n",
       "      <td>5598.0</td>\n",
       "      <td>CA</td>\n",
       "      <td>36 months</td>\n",
       "      <td>Good</td>\n",
       "      <td>0</td>\n",
       "    </tr>\n",
       "    <tr>\n",
       "      <th>5</th>\n",
       "      <td>wedding</td>\n",
       "      <td>Source Verified</td>\n",
       "      <td>5000.0</td>\n",
       "      <td>7.90</td>\n",
       "      <td>156.46</td>\n",
       "      <td>A</td>\n",
       "      <td>A4</td>\n",
       "      <td>3 years</td>\n",
       "      <td>RENT</td>\n",
       "      <td>36000.0</td>\n",
       "      <td>...</td>\n",
       "      <td>3.0</td>\n",
       "      <td>9.0</td>\n",
       "      <td>12.0</td>\n",
       "      <td>0.0</td>\n",
       "      <td>28.3</td>\n",
       "      <td>7963.0</td>\n",
       "      <td>AZ</td>\n",
       "      <td>36 months</td>\n",
       "      <td>Good</td>\n",
       "      <td>0</td>\n",
       "    </tr>\n",
       "  </tbody>\n",
       "</table>\n",
       "<p>5 rows × 21 columns</p>\n",
       "</div>"
      ],
      "text/plain": [
       "          purpose verification_status  loan_amnt  int_rate  installment grade  \\\n",
       "0     credit_card            Verified     5000.0     10.65       162.87     B   \n",
       "1             car     Source Verified     2500.0     15.27        59.83     C   \n",
       "2  small_business        Not Verified     2400.0     15.96        84.33     C   \n",
       "3           other     Source Verified    10000.0     13.49       339.31     C   \n",
       "5         wedding     Source Verified     5000.0      7.90       156.46     A   \n",
       "\n",
       "  sub_grade emp_length home_ownership  annual_inc        ...          \\\n",
       "0        B2  10+ years           RENT     24000.0        ...           \n",
       "1        C4   < 1 year           RENT     30000.0        ...           \n",
       "2        C5  10+ years           RENT     12252.0        ...           \n",
       "3        C1  10+ years           RENT     49200.0        ...           \n",
       "5        A4    3 years           RENT     36000.0        ...           \n",
       "\n",
       "   inq_last_6mths  open_acc  total_acc  pub_rec  revol_util  revol_bal  \\\n",
       "0             1.0       3.0        9.0      0.0        83.7    13648.0   \n",
       "1             5.0       3.0        4.0      0.0         9.4     1687.0   \n",
       "2             2.0       2.0       10.0      0.0        98.5     2956.0   \n",
       "3             1.0      10.0       37.0      0.0        21.0     5598.0   \n",
       "5             3.0       9.0       12.0      0.0        28.3     7963.0   \n",
       "\n",
       "   addr_state        term loan_condition loan_condition_num  \n",
       "0          AZ   36 months           Good                  0  \n",
       "1          GA   60 months            Bad                  1  \n",
       "2          IL   36 months           Good                  0  \n",
       "3          CA   36 months           Good                  0  \n",
       "5          AZ   36 months           Good                  0  \n",
       "\n",
       "[5 rows x 21 columns]"
      ]
     },
     "execution_count": 81,
     "metadata": {},
     "output_type": "execute_result"
    }
   ],
   "source": [
    "# Remove columns that can not be known when we are trying to do the prediction\n",
    "# Leave only columns that can be obtained when considering wheter to approve the loan or not\n",
    "# Columns to remain\n",
    "# purpose\n",
    "# verification_status\n",
    "# loan_amnt\n",
    "# int_rate\n",
    "# installment\n",
    "# grade\n",
    "# sub_grade\n",
    "# emp_length\n",
    "# home_ownership\n",
    "# annual_inc\n",
    "# dti, dti_joint\n",
    "# inq_last_6mths\n",
    "# mths_since_last_delinq\n",
    "# open_acc\n",
    "# total_acc\n",
    "# pub_rec\n",
    "# revol_util\n",
    "# revol_bal\n",
    "# addr_state\n",
    "# term\n",
    "# issue_d\n",
    "# loan_condition --> this is what we are going to predict\n",
    "feature_selected = ['purpose', 'verification_status', 'loan_amnt', 'int_rate', 'installment', 'grade', 'sub_grade', 'emp_length', 'home_ownership', 'annual_inc', 'dti', 'inq_last_6mths', 'open_acc', 'total_acc', 'pub_rec', 'revol_util', 'revol_bal', 'addr_state', 'term', 'loan_condition', 'loan_condition_num']\n",
    "loan = loan[feature_selected]\n",
    "loan.head()"
   ]
  },
  {
   "cell_type": "code",
   "execution_count": 82,
   "metadata": {},
   "outputs": [
    {
     "data": {
      "text/plain": [
       "<matplotlib.axes._subplots.AxesSubplot at 0x25b05c5c470>"
      ]
     },
     "execution_count": 82,
     "metadata": {},
     "output_type": "execute_result"
    },
    {
     "data": {
      "image/png": "[encoded data removed]",
      "text/plain": [
       "<matplotlib.figure.Figure at 0x25b0008db70>"
      ]
     },
     "metadata": {},
     "output_type": "display_data"
    }
   ],
   "source": [
    "# Check correlations\n",
    "# Be careful of any X variables that have high corelation with other Xs\n",
    "sns.heatmap(loan.corr(), annot=True)"
   ]
  },
  {
   "cell_type": "code",
   "execution_count": 83,
   "metadata": {},
   "outputs": [
    {
     "data": {
      "text/plain": [
       "<matplotlib.axes._subplots.AxesSubplot at 0x25b05c1ca58>"
      ]
     },
     "execution_count": 83,
     "metadata": {},
     "output_type": "execute_result"
    },
    {
     "data": {
      "image/png": "[encoded data removed]",
      "text/plain": [
       "<matplotlib.figure.Figure at 0x25b05c1c588>"
      ]
     },
     "metadata": {},
     "output_type": "display_data"
    }
   ],
   "source": [
    "loan = loan\n",
    "sns.heatmap(loan.isnull(), yticklabels=False, cbar=False, cmap='viridis')"
   ]
  },
  {
   "cell_type": "code",
   "execution_count": 84,
   "metadata": {},
   "outputs": [
    {
     "data": {
      "text/plain": [
       "purpose                False\n",
       "verification_status    False\n",
       "loan_amnt              False\n",
       "int_rate               False\n",
       "installment            False\n",
       "grade                  False\n",
       "sub_grade              False\n",
       "emp_length              True\n",
       "home_ownership         False\n",
       "annual_inc              True\n",
       "dti                    False\n",
       "inq_last_6mths          True\n",
       "open_acc                True\n",
       "total_acc               True\n",
       "pub_rec                 True\n",
       "revol_util              True\n",
       "revol_bal              False\n",
       "addr_state             False\n",
       "term                   False\n",
       "loan_condition         False\n",
       "loan_condition_num     False\n",
       "dtype: bool"
      ]
     },
     "execution_count": 84,
     "metadata": {},
     "output_type": "execute_result"
    }
   ],
   "source": [
    "# Check for any \"holes\" or values that might cause error in the models\n",
    "# Infinite Values\n",
    "# nulls\n",
    "# NaN (Not a number in a number column)\n",
    "# assign null to infinite values\n",
    "loan.replace([np.inf, -np.inf], np.nan)\n",
    "\n",
    "loan.isnull().any()"
   ]
  },
  {
   "cell_type": "code",
   "execution_count": 85,
   "metadata": {},
   "outputs": [
    {
     "data": {
      "text/plain": [
       "purpose                False\n",
       "verification_status    False\n",
       "loan_amnt              False\n",
       "int_rate               False\n",
       "installment            False\n",
       "grade                  False\n",
       "sub_grade              False\n",
       "emp_length             False\n",
       "home_ownership         False\n",
       "annual_inc              True\n",
       "dti                    False\n",
       "inq_last_6mths          True\n",
       "open_acc                True\n",
       "total_acc               True\n",
       "pub_rec                 True\n",
       "revol_util              True\n",
       "revol_bal              False\n",
       "addr_state             False\n",
       "term                   False\n",
       "loan_condition         False\n",
       "loan_condition_num     False\n",
       "dtype: bool"
      ]
     },
     "execution_count": 85,
     "metadata": {},
     "output_type": "execute_result"
    }
   ],
   "source": [
    "# Fill in the \"holes\"\n",
    "# Or remove the holes if the missing data is more than 20% of the data\n",
    "# Fill in categorial data with the most occurring category\n",
    "loan['emp_length'].value_counts()\n",
    "\n",
    "def impute_emp_length(x):\n",
    "    if pd.isnull(x):\n",
    "        return '10+ years'\n",
    "    else:\n",
    "        return x\n",
    "    \n",
    "loan['emp_length'] = loan['emp_length'].apply(impute_emp_length)\n",
    "\n",
    "# sns.heatmap(loan.isnull(), yticklabels=False, cbar=False, cmap='viridis')\n",
    "loan.isnull().any()"
   ]
  },
  {
   "cell_type": "code",
   "execution_count": 86,
   "metadata": {},
   "outputs": [
    {
     "data": {
      "text/plain": [
       "purpose                False\n",
       "verification_status    False\n",
       "loan_amnt              False\n",
       "int_rate               False\n",
       "installment            False\n",
       "grade                  False\n",
       "sub_grade              False\n",
       "emp_length             False\n",
       "home_ownership         False\n",
       "annual_inc             False\n",
       "dti                    False\n",
       "inq_last_6mths          True\n",
       "open_acc                True\n",
       "total_acc               True\n",
       "pub_rec                 True\n",
       "revol_util              True\n",
       "revol_bal              False\n",
       "addr_state             False\n",
       "term                   False\n",
       "loan_condition         False\n",
       "loan_condition_num     False\n",
       "dtype: bool"
      ]
     },
     "execution_count": 86,
     "metadata": {},
     "output_type": "execute_result"
    }
   ],
   "source": [
    "# Fill in the \"holes\"\n",
    "# Or remove the holes if the missing data is more than 20% of the data\n",
    "# Fill in categorial data with the most occurring category\n",
    "loan['annual_inc'].median()\n",
    "\n",
    "def impute_annual_inc(x):\n",
    "    if pd.isnull(x):\n",
    "        return 58200.0\n",
    "    else:\n",
    "        return x\n",
    "    \n",
    "loan['annual_inc'] = loan['annual_inc'].apply(impute_annual_inc)\n",
    "\n",
    "# sns.heatmap(loan.isnull(), yticklabels=False, cbar=False, cmap='viridis')\n",
    "loan.isnull().any()"
   ]
  },
  {
   "cell_type": "code",
   "execution_count": 87,
   "metadata": {},
   "outputs": [
    {
     "data": {
      "text/plain": [
       "purpose                False\n",
       "verification_status    False\n",
       "loan_amnt              False\n",
       "int_rate               False\n",
       "installment            False\n",
       "grade                  False\n",
       "sub_grade              False\n",
       "emp_length             False\n",
       "home_ownership         False\n",
       "annual_inc             False\n",
       "dti                    False\n",
       "inq_last_6mths         False\n",
       "open_acc                True\n",
       "total_acc               True\n",
       "pub_rec                 True\n",
       "revol_util              True\n",
       "revol_bal              False\n",
       "addr_state             False\n",
       "term                   False\n",
       "loan_condition         False\n",
       "loan_condition_num     False\n",
       "dtype: bool"
      ]
     },
     "execution_count": 87,
     "metadata": {},
     "output_type": "execute_result"
    }
   ],
   "source": [
    "# loan['inq_last_6mths'].value_counts()\n",
    "\n",
    "loan['inq_last_6mths'].median()\n",
    "\n",
    "def impute_inq_last_6mths(x):\n",
    "    if pd.isnull(x):\n",
    "        return 1.0\n",
    "    else:\n",
    "        return x\n",
    "    \n",
    "loan['inq_last_6mths'] = loan['inq_last_6mths'].apply(impute_inq_last_6mths)\n",
    "\n",
    "# sns.heatmap(loan.isnull(), yticklabels=False, cbar=False, cmap='viridis')\n",
    "loan.isnull().any()"
   ]
  },
  {
   "cell_type": "code",
   "execution_count": 88,
   "metadata": {},
   "outputs": [
    {
     "data": {
      "text/plain": [
       "purpose                False\n",
       "verification_status    False\n",
       "loan_amnt              False\n",
       "int_rate               False\n",
       "installment            False\n",
       "grade                  False\n",
       "sub_grade              False\n",
       "emp_length             False\n",
       "home_ownership         False\n",
       "annual_inc             False\n",
       "dti                    False\n",
       "inq_last_6mths         False\n",
       "open_acc               False\n",
       "total_acc               True\n",
       "pub_rec                 True\n",
       "revol_util              True\n",
       "revol_bal              False\n",
       "addr_state             False\n",
       "term                   False\n",
       "loan_condition         False\n",
       "loan_condition_num     False\n",
       "dtype: bool"
      ]
     },
     "execution_count": 88,
     "metadata": {},
     "output_type": "execute_result"
    }
   ],
   "source": [
    "# loan['open_acc'].value_counts()\n",
    "\n",
    "loan['open_acc'].median()\n",
    "\n",
    "def impute_open_acc(x):\n",
    "    if pd.isnull(x):\n",
    "        return 9.0\n",
    "    else:\n",
    "        return x\n",
    "    \n",
    "loan['open_acc'] = loan['open_acc'].apply(impute_open_acc)\n",
    "\n",
    "# sns.heatmap(loan.isnull(), yticklabels=False, cbar=False, cmap='viridis')\n",
    "loan.isnull().any()"
   ]
  },
  {
   "cell_type": "code",
   "execution_count": 89,
   "metadata": {},
   "outputs": [
    {
     "data": {
      "text/plain": [
       "purpose                False\n",
       "verification_status    False\n",
       "loan_amnt              False\n",
       "int_rate               False\n",
       "installment            False\n",
       "grade                  False\n",
       "sub_grade              False\n",
       "emp_length             False\n",
       "home_ownership         False\n",
       "annual_inc             False\n",
       "dti                    False\n",
       "inq_last_6mths         False\n",
       "open_acc               False\n",
       "total_acc              False\n",
       "pub_rec                 True\n",
       "revol_util              True\n",
       "revol_bal              False\n",
       "addr_state             False\n",
       "term                   False\n",
       "loan_condition         False\n",
       "loan_condition_num     False\n",
       "dtype: bool"
      ]
     },
     "execution_count": 89,
     "metadata": {},
     "output_type": "execute_result"
    }
   ],
   "source": [
    "# loan['total_acc'].value_counts()\n",
    "\n",
    "loan['total_acc'].median()\n",
    "\n",
    "def impute_total_acc(x):\n",
    "    if pd.isnull(x):\n",
    "        return 20.0\n",
    "    else:\n",
    "        return x\n",
    "    \n",
    "loan['total_acc'] = loan['total_acc'].apply(impute_total_acc)\n",
    "\n",
    "# sns.heatmap(loan.isnull(), yticklabels=False, cbar=False, cmap='viridis')\n",
    "loan.isnull().any()"
   ]
  },
  {
   "cell_type": "code",
   "execution_count": 90,
   "metadata": {},
   "outputs": [
    {
     "data": {
      "text/plain": [
       "purpose                False\n",
       "verification_status    False\n",
       "loan_amnt              False\n",
       "int_rate               False\n",
       "installment            False\n",
       "grade                  False\n",
       "sub_grade              False\n",
       "emp_length             False\n",
       "home_ownership         False\n",
       "annual_inc             False\n",
       "dti                    False\n",
       "inq_last_6mths         False\n",
       "open_acc               False\n",
       "total_acc              False\n",
       "pub_rec                False\n",
       "revol_util              True\n",
       "revol_bal              False\n",
       "addr_state             False\n",
       "term                   False\n",
       "loan_condition         False\n",
       "loan_condition_num     False\n",
       "dtype: bool"
      ]
     },
     "execution_count": 90,
     "metadata": {},
     "output_type": "execute_result"
    }
   ],
   "source": [
    "# loan['pub_rec'].value_counts()\n",
    "\n",
    "loan['pub_rec'].median()\n",
    "\n",
    "def impute_pub_rec(x):\n",
    "    if pd.isnull(x):\n",
    "        return 0.0\n",
    "    else:\n",
    "        return x\n",
    "    \n",
    "loan['pub_rec'] = loan['pub_rec'].apply(impute_pub_rec)\n",
    "\n",
    "# sns.heatmap(loan.isnull(), yticklabels=False, cbar=False, cmap='viridis')\n",
    "loan.isnull().any()"
   ]
  },
  {
   "cell_type": "code",
   "execution_count": 91,
   "metadata": {},
   "outputs": [
    {
     "data": {
      "text/plain": [
       "purpose                False\n",
       "verification_status    False\n",
       "loan_amnt              False\n",
       "int_rate               False\n",
       "installment            False\n",
       "grade                  False\n",
       "sub_grade              False\n",
       "emp_length             False\n",
       "home_ownership         False\n",
       "annual_inc             False\n",
       "dti                    False\n",
       "inq_last_6mths         False\n",
       "open_acc               False\n",
       "total_acc              False\n",
       "pub_rec                False\n",
       "revol_util             False\n",
       "revol_bal              False\n",
       "addr_state             False\n",
       "term                   False\n",
       "loan_condition         False\n",
       "loan_condition_num     False\n",
       "dtype: bool"
      ]
     },
     "execution_count": 91,
     "metadata": {},
     "output_type": "execute_result"
    }
   ],
   "source": [
    "# loan['revol_util'].value_counts()\n",
    "\n",
    "loan['revol_util'].median()\n",
    "\n",
    "def impute_revol_util(x):\n",
    "    if pd.isnull(x):\n",
    "        return 49.4\n",
    "    else:\n",
    "        return x\n",
    "    \n",
    "loan['revol_util'] = loan['revol_util'].apply(impute_revol_util)\n",
    "\n",
    "# sns.heatmap(loan.isnull(), yticklabels=False, cbar=False, cmap='viridis')\n",
    "loan.isnull().any()"
   ]
  },
  {
   "cell_type": "code",
   "execution_count": 92,
   "metadata": {},
   "outputs": [],
   "source": [
    "# Export Preped Data to file\n",
    "loan.to_csv('../data/prep_loan.csv', index=False)"
   ]
  },
  {
   "cell_type": "code",
   "execution_count": null,
   "metadata": {},
   "outputs": [],
   "source": []
  }
 ],
 "metadata": {
  "kernelspec": {
   "display_name": "Python 3",
   "language": "python",
   "name": "python3"
  },
  "language_info": {
   "codemirror_mode": {
    "name": "ipython",
    "version": 3
   },
   "file_extension": ".py",
   "mimetype": "text/x-python",
   "name": "python",
   "nbconvert_exporter": "python",
   "pygments_lexer": "ipython3",
   "version": "3.6.4"
  }
 },
 "nbformat": 4,
 "nbformat_minor": 1
}
